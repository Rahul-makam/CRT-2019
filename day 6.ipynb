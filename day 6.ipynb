{
 "cells": [
  {
   "cell_type": "code",
   "execution_count": 9,
   "metadata": {},
   "outputs": [
    {
     "data": {
      "text/plain": [
       "'PYTHON'"
      ]
     },
     "execution_count": 9,
     "metadata": {},
     "output_type": "execute_result"
    }
   ],
   "source": [
    "s=\"python\"\n",
    "s.upper()"
   ]
  },
  {
   "cell_type": "code",
   "execution_count": 10,
   "metadata": {},
   "outputs": [
    {
     "name": "stdout",
     "output_type": "stream",
     "text": [
      "PYTHON\n",
      "python\n"
     ]
    }
   ],
   "source": [
    "s=\"python\"\n",
    "print(s.upper()) #converts the given sring into upper case\n",
    "print(s.lower()) #converts the given string into lower case"
   ]
  },
  {
   "cell_type": "code",
   "execution_count": 11,
   "metadata": {},
   "outputs": [
    {
     "name": "stdout",
     "output_type": "stream",
     "text": [
      "python\n",
      "True\n",
      "False\n"
     ]
    }
   ],
   "source": [
    "# string Boolean methods:\n",
    "print(s)\n",
    "print(s.islower())\n",
    "print(s.isupper())"
   ]
  },
  {
   "cell_type": "code",
   "execution_count": 12,
   "metadata": {},
   "outputs": [
    {
     "name": "stdout",
     "output_type": "stream",
     "text": [
      "True\n",
      "False\n"
     ]
    }
   ],
   "source": [
    "#istitle :\n",
    "s1=\"Python Programming\"\n",
    "s2=\"python programming\"\n",
    "print(s1.istitle())\n",
    "print(s2.istitle())"
   ]
  },
  {
   "cell_type": "code",
   "execution_count": 17,
   "metadata": {},
   "outputs": [
    {
     "name": "stdout",
     "output_type": "stream",
     "text": [
      "False\n",
      "True\n"
     ]
    }
   ],
   "source": [
    "#isnumeric:\n",
    "s3 =\"Py123\"\n",
    "s4=\"123123\"\n",
    "print(s3.isnumeric())\n",
    "print(s4.isnumeric())"
   ]
  },
  {
   "cell_type": "code",
   "execution_count": 18,
   "metadata": {},
   "outputs": [
    {
     "name": "stdout",
     "output_type": "stream",
     "text": [
      "True\n",
      "False\n"
     ]
    }
   ],
   "source": [
    "#isalpha\n",
    "s=\"python\"\n",
    "s1=\"Py123\"\n",
    "print(s.isalpha())\n",
    "print(s1.isalpha())"
   ]
  },
  {
   "cell_type": "code",
   "execution_count": 24,
   "metadata": {},
   "outputs": [
    {
     "name": "stdout",
     "output_type": "stream",
     "text": [
      "True\n",
      "False\n"
     ]
    }
   ],
   "source": [
    "#isspace\n",
    "s=\" \"\n",
    "s1=\"PY TH ON\"\n",
    "print(s.isspace())\n",
    "print(s1.isspace())"
   ]
  },
  {
   "cell_type": "code",
   "execution_count": 3,
   "metadata": {},
   "outputs": [
    {
     "data": {
      "text/plain": [
       "[1, 8, 9, 7, 6]"
      ]
     },
     "execution_count": 3,
     "metadata": {},
     "output_type": "execute_result"
    }
   ],
   "source": [
    "# function to convert digits in a number to list\n",
    "#Input : 18976\n",
    "#output : [1,8,9,7,6]\n",
    "def Numberlistconversion(n):\n",
    "    li=[]\n",
    "    while n!=0:\n",
    "        r=n%10 \n",
    "        li.append(r) \n",
    "        n=n//10\n",
    "    li.reverse()\n",
    "    return li\n",
    "    \n",
    "Numberlistconversion(18976)   \n"
   ]
  },
  {
   "cell_type": "code",
   "execution_count": 4,
   "metadata": {},
   "outputs": [
    {
     "name": "stdout",
     "output_type": "stream",
     "text": [
      "1 2 3 4 6 12 "
     ]
    }
   ],
   "source": [
    "# function to check factors of a given number\n",
    "# input: 12\n",
    "# output: 1 ,2 ,3 ,6 ,12\n",
    "def Factorlist(n):\n",
    "    for i in range(1,n+1): #12\n",
    "        if n%i==0:\n",
    "            print(i, end=\" \")\n",
    "Factorlist(12)\n",
    "        "
   ]
  },
  {
   "cell_type": "code",
   "execution_count": 5,
   "metadata": {},
   "outputs": [
    {
     "name": "stdout",
     "output_type": "stream",
     "text": [
      "500 502 504 506 508 510 512 514 516 518 520 "
     ]
    }
   ],
   "source": [
    "# input: 500,520\n",
    "# output: 500,502,504,506,508,......520\n",
    "def AlternateSequence(lb,ub):\n",
    "    for i in range(lb,ub+2,2):\n",
    "        print(i,end=\" \")\n",
    "AlternateSequence(500,520)"
   ]
  },
  {
   "cell_type": "code",
   "execution_count": 6,
   "metadata": {},
   "outputs": [
    {
     "name": "stdout",
     "output_type": "stream",
     "text": [
      "13478\n"
     ]
    },
    {
     "data": {
      "text/plain": [
       "str"
      ]
     },
     "execution_count": 6,
     "metadata": {},
     "output_type": "execute_result"
    }
   ],
   "source": [
    "a = 13478\n",
    "b= str(a)\n",
    "print(b)\n",
    "type(b)"
   ]
  },
  {
   "cell_type": "code",
   "execution_count": 7,
   "metadata": {},
   "outputs": [],
   "source": [
    "c=max(str(a))"
   ]
  },
  {
   "cell_type": "code",
   "execution_count": 9,
   "metadata": {},
   "outputs": [
    {
     "data": {
      "text/plain": [
       "['P', 'y', 't', 'h', 'o', 'n']"
      ]
     },
     "execution_count": 9,
     "metadata": {},
     "output_type": "execute_result"
    }
   ],
   "source": [
    "#input: s=\"Python\"\n",
    "#output: ['P''Y''T''H''O''N']\n",
    "s=\"Python\"\n",
    "list(s)"
   ]
  },
  {
   "cell_type": "code",
   "execution_count": 10,
   "metadata": {},
   "outputs": [
    {
     "ename": "SyntaxError",
     "evalue": "invalid syntax (<ipython-input-10-3b284cd246a2>, line 1)",
     "output_type": "error",
     "traceback": [
      "\u001b[1;36m  File \u001b[1;32m\"<ipython-input-10-3b284cd246a2>\"\u001b[1;36m, line \u001b[1;32m1\u001b[0m\n\u001b[1;33m    145: 1!+4!+5! =145 -->Strong Number\u001b[0m\n\u001b[1;37m          ^\u001b[0m\n\u001b[1;31mSyntaxError\u001b[0m\u001b[1;31m:\u001b[0m invalid syntax\n"
     ]
    }
   ],
   "source": [
    "145: 1!+4!+5! = 145 -->Strong Number"
   ]
  },
  {
   "cell_type": "code",
   "execution_count": 5,
   "metadata": {},
   "outputs": [
    {
     "data": {
      "text/plain": [
       "120"
      ]
     },
     "execution_count": 5,
     "metadata": {},
     "output_type": "execute_result"
    }
   ],
   "source": [
    "def factorial(n):\n",
    "    fact=1\n",
    "    i=1\n",
    "    while i<=n:\n",
    "        fact = fact *i\n",
    "        i=i+1\n",
    "    return fact\n",
    "factorial(5)\n",
    "def FactorialSum():\n",
    "    s=0\n",
    "    buffer=n\n",
    "    while n1=0:\n",
    "        "
   ]
  },
  {
   "cell_type": "code",
   "execution_count": null,
   "metadata": {},
   "outputs": [],
   "source": []
  }
 ],
 "metadata": {
  "kernelspec": {
   "display_name": "Python 3",
   "language": "python",
   "name": "python3"
  },
  "language_info": {
   "codemirror_mode": {
    "name": "ipython",
    "version": 3
   },
   "file_extension": ".py",
   "mimetype": "text/x-python",
   "name": "python",
   "nbconvert_exporter": "python",
   "pygments_lexer": "ipython3",
   "version": "3.7.4"
  }
 },
 "nbformat": 4,
 "nbformat_minor": 2
}
